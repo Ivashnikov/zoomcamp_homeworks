{
 "cells": [
  {
   "cell_type": "markdown",
   "id": "bddebc4c-4f2a-498e-b82d-8754fcad8593",
   "metadata": {},
   "source": [
    "## Homework\n",
    "\n",
    "### Dataset\n",
    "\n",
    "In this homework, we will use the California Housing Prices from [Kaggle](https://www.kaggle.com/datasets/camnugent/california-housing-prices).\n",
    "\n",
    "Here's a wget-able [link](https://raw.githubusercontent.com/alexeygrigorev/datasets/master/housing.csv):\n",
    "\n",
    "```bash\n",
    "wget https://raw.githubusercontent.com/alexeygrigorev/datasets/master/housing.csv\n",
    "```\n",
    "\n",
    "The goal of this homework is to create a regression model for predicting housing prices (column `'median_house_value'`).\n",
    "\n",
    "### EDA\n",
    "\n",
    "* Load the data.\n",
    "* Look at the `median_house_value` variable. Does it have a long tail? \n",
    "\n",
    "### Features\n",
    "\n",
    "For the rest of the homework, you'll need to use only these columns:\n",
    "\n",
    "* `'latitude'`,\n",
    "* `'longitude'`,\n",
    "* `'housing_median_age'`,\n",
    "* `'total_rooms'`,\n",
    "* `'total_bedrooms'`,\n",
    "* `'population'`,\n",
    "* `'households'`,\n",
    "* `'median_income'`,\n",
    "* `'median_house_value'`\n",
    "\n",
    "Select only them."
   ]
  },
  {
   "cell_type": "code",
   "execution_count": 1,
   "id": "2c19d3a8-4fb0-4f6f-b77e-ea8cfe39c0ae",
   "metadata": {},
   "outputs": [
    {
     "name": "stdout",
     "output_type": "stream",
     "text": [
      "--2022-09-18 14:30:30--  https://raw.githubusercontent.com/alexeygrigorev/datasets/master/housing.csv\n",
      "Resolving raw.githubusercontent.com (raw.githubusercontent.com)... 185.199.108.133, 185.199.111.133, 185.199.110.133, ...\n",
      "Connecting to raw.githubusercontent.com (raw.githubusercontent.com)|185.199.108.133|:443... connected.\n",
      "HTTP request sent, awaiting response... 200 OK\n",
      "Length: 1423529 (1,4M) [text/plain]\n",
      "Saving to: ‘housing.csv’\n",
      "\n",
      "housing.csv         100%[===================>]   1,36M  4,62MB/s    in 0,3s    \n",
      "\n",
      "2022-09-18 14:30:30 (4,62 MB/s) - ‘housing.csv’ saved [1423529/1423529]\n",
      "\n"
     ]
    }
   ],
   "source": [
    "!wget https://raw.githubusercontent.com/alexeygrigorev/datasets/master/housing.csv"
   ]
  },
  {
   "cell_type": "code",
   "execution_count": 3,
   "id": "0582be20-13c4-4309-9279-c4dbc1bb1a9e",
   "metadata": {},
   "outputs": [],
   "source": [
    "import pandas as pd\n",
    "import numpy as np"
   ]
  },
  {
   "cell_type": "code",
   "execution_count": 5,
   "id": "56eca4e1-96c5-4c2f-b4e8-1a48ba647006",
   "metadata": {},
   "outputs": [
    {
     "name": "stdout",
     "output_type": "stream",
     "text": [
      "longitude,latitude,housing_median_age,total_rooms,total_bedrooms,population,households,median_income,median_house_value,ocean_proximity\n",
      "-122.23,37.88,41.0,880.0,129.0,322.0,126.0,8.3252,452600.0,NEAR BAY\n",
      "-122.22,37.86,21.0,7099.0,1106.0,2401.0,1138.0,8.3014,358500.0,NEAR BAY\n",
      "-122.24,37.85,52.0,1467.0,190.0,496.0,177.0,7.2574,352100.0,NEAR BAY\n",
      "-122.25,37.85,52.0,1274.0,235.0,558.0,219.0,5.6431,341300.0,NEAR BAY\n",
      "-122.25,37.85,52.0,1627.0,280.0,565.0,259.0,3.8462,342200.0,NEAR BAY\n",
      "-122.25,37.85,52.0,919.0,213.0,413.0,193.0,4.0368,269700.0,NEAR BAY\n",
      "-122.25,37.84,52.0,2535.0,489.0,1094.0,514.0,3.6591,299200.0,NEAR BAY\n",
      "-122.25,37.84,52.0,3104.0,687.0,1157.0,647.0,3.12,241400.0,NEAR BAY\n",
      "-122.26,37.84,42.0,2555.0,665.0,1206.0,595.0,2.0804,226700.0,NEAR BAY\n"
     ]
    }
   ],
   "source": [
    "! head housing.csv"
   ]
  },
  {
   "cell_type": "code",
   "execution_count": 38,
   "id": "87c9dabd-6e9a-49f4-8b8c-58331af4f334",
   "metadata": {},
   "outputs": [],
   "source": [
    "clms = [\n",
    "    'latitude',\n",
    "    'longitude',\n",
    "    'housing_median_age',\n",
    "    'total_rooms',\n",
    "    'total_bedrooms',\n",
    "    'population',\n",
    "    'households',\n",
    "    'median_income',\n",
    "    'median_house_value'\n",
    "]"
   ]
  },
  {
   "cell_type": "code",
   "execution_count": 39,
   "id": "61e31a63-ed14-423d-ae0b-fe9b2a496080",
   "metadata": {},
   "outputs": [],
   "source": [
    "df = pd.read_csv('housing.csv', usecols=clms)"
   ]
  },
  {
   "cell_type": "code",
   "execution_count": 41,
   "id": "0f7d0d37-d6e1-4efb-8301-964ad2ffd51b",
   "metadata": {},
   "outputs": [
    {
     "data": {
      "text/html": [
       "<div>\n",
       "<style scoped>\n",
       "    .dataframe tbody tr th:only-of-type {\n",
       "        vertical-align: middle;\n",
       "    }\n",
       "\n",
       "    .dataframe tbody tr th {\n",
       "        vertical-align: top;\n",
       "    }\n",
       "\n",
       "    .dataframe thead th {\n",
       "        text-align: right;\n",
       "    }\n",
       "</style>\n",
       "<table border=\"1\" class=\"dataframe\">\n",
       "  <thead>\n",
       "    <tr style=\"text-align: right;\">\n",
       "      <th></th>\n",
       "      <th>longitude</th>\n",
       "      <th>latitude</th>\n",
       "      <th>housing_median_age</th>\n",
       "      <th>total_rooms</th>\n",
       "      <th>total_bedrooms</th>\n",
       "      <th>population</th>\n",
       "      <th>households</th>\n",
       "      <th>median_income</th>\n",
       "      <th>median_house_value</th>\n",
       "    </tr>\n",
       "  </thead>\n",
       "  <tbody>\n",
       "    <tr>\n",
       "      <th>0</th>\n",
       "      <td>-122.23</td>\n",
       "      <td>37.88</td>\n",
       "      <td>41.0</td>\n",
       "      <td>880.0</td>\n",
       "      <td>129.0</td>\n",
       "      <td>322.0</td>\n",
       "      <td>126.0</td>\n",
       "      <td>8.3252</td>\n",
       "      <td>452600.0</td>\n",
       "    </tr>\n",
       "    <tr>\n",
       "      <th>1</th>\n",
       "      <td>-122.22</td>\n",
       "      <td>37.86</td>\n",
       "      <td>21.0</td>\n",
       "      <td>7099.0</td>\n",
       "      <td>1106.0</td>\n",
       "      <td>2401.0</td>\n",
       "      <td>1138.0</td>\n",
       "      <td>8.3014</td>\n",
       "      <td>358500.0</td>\n",
       "    </tr>\n",
       "    <tr>\n",
       "      <th>2</th>\n",
       "      <td>-122.24</td>\n",
       "      <td>37.85</td>\n",
       "      <td>52.0</td>\n",
       "      <td>1467.0</td>\n",
       "      <td>190.0</td>\n",
       "      <td>496.0</td>\n",
       "      <td>177.0</td>\n",
       "      <td>7.2574</td>\n",
       "      <td>352100.0</td>\n",
       "    </tr>\n",
       "    <tr>\n",
       "      <th>3</th>\n",
       "      <td>-122.25</td>\n",
       "      <td>37.85</td>\n",
       "      <td>52.0</td>\n",
       "      <td>1274.0</td>\n",
       "      <td>235.0</td>\n",
       "      <td>558.0</td>\n",
       "      <td>219.0</td>\n",
       "      <td>5.6431</td>\n",
       "      <td>341300.0</td>\n",
       "    </tr>\n",
       "    <tr>\n",
       "      <th>4</th>\n",
       "      <td>-122.25</td>\n",
       "      <td>37.85</td>\n",
       "      <td>52.0</td>\n",
       "      <td>1627.0</td>\n",
       "      <td>280.0</td>\n",
       "      <td>565.0</td>\n",
       "      <td>259.0</td>\n",
       "      <td>3.8462</td>\n",
       "      <td>342200.0</td>\n",
       "    </tr>\n",
       "  </tbody>\n",
       "</table>\n",
       "</div>"
      ],
      "text/plain": [
       "   longitude  latitude  housing_median_age  total_rooms  total_bedrooms  \\\n",
       "0    -122.23     37.88                41.0        880.0           129.0   \n",
       "1    -122.22     37.86                21.0       7099.0          1106.0   \n",
       "2    -122.24     37.85                52.0       1467.0           190.0   \n",
       "3    -122.25     37.85                52.0       1274.0           235.0   \n",
       "4    -122.25     37.85                52.0       1627.0           280.0   \n",
       "\n",
       "   population  households  median_income  median_house_value  \n",
       "0       322.0       126.0         8.3252            452600.0  \n",
       "1      2401.0      1138.0         8.3014            358500.0  \n",
       "2       496.0       177.0         7.2574            352100.0  \n",
       "3       558.0       219.0         5.6431            341300.0  \n",
       "4       565.0       259.0         3.8462            342200.0  "
      ]
     },
     "execution_count": 41,
     "metadata": {},
     "output_type": "execute_result"
    }
   ],
   "source": [
    "df.head()"
   ]
  },
  {
   "cell_type": "markdown",
   "id": "a7f0aff1-c869-427c-9d83-3b32a7567238",
   "metadata": {},
   "source": [
    "### Question 1\n",
    "\n",
    "Find a feature with missing values. How many missing values does it have?\n",
    "- **207**\n",
    "- 307\n",
    "- 408\n",
    "- 508"
   ]
  },
  {
   "cell_type": "code",
   "execution_count": 42,
   "id": "ae7c0d0e-ac02-4493-8fd6-b9bdf53f3ed2",
   "metadata": {},
   "outputs": [
    {
     "data": {
      "text/plain": [
       "longitude               0\n",
       "latitude                0\n",
       "housing_median_age      0\n",
       "total_rooms             0\n",
       "total_bedrooms        207\n",
       "population              0\n",
       "households              0\n",
       "median_income           0\n",
       "median_house_value      0\n",
       "dtype: int64"
      ]
     },
     "execution_count": 42,
     "metadata": {},
     "output_type": "execute_result"
    }
   ],
   "source": [
    "df.isna().sum()"
   ]
  },
  {
   "cell_type": "code",
   "execution_count": null,
   "id": "5bcd78ca-1234-4b15-918f-231675cfed1c",
   "metadata": {},
   "outputs": [],
   "source": []
  },
  {
   "cell_type": "markdown",
   "id": "27c352a0-44fb-4ad4-85bf-e9db73fc4df3",
   "metadata": {},
   "source": [
    "### Question 2\n",
    "\n",
    "What's the median (50% percentile) for variable 'population'?\n",
    "- 1133\n",
    "- 1122\n",
    "- **1166**\n",
    "- 1188"
   ]
  },
  {
   "cell_type": "code",
   "execution_count": 43,
   "id": "e0701737-db07-4faa-88a0-df39ecaa3881",
   "metadata": {},
   "outputs": [
    {
     "data": {
      "text/plain": [
       "1166.0"
      ]
     },
     "execution_count": 43,
     "metadata": {},
     "output_type": "execute_result"
    }
   ],
   "source": [
    "df['population'].median()"
   ]
  },
  {
   "cell_type": "code",
   "execution_count": null,
   "id": "713719eb-25a6-4c1d-af93-318cc4db4a7c",
   "metadata": {},
   "outputs": [],
   "source": []
  },
  {
   "cell_type": "markdown",
   "id": "870a836d-af0e-4551-b4ad-0996a46c781c",
   "metadata": {},
   "source": [
    "### Split the data\n",
    "\n",
    "* Shuffle the initial dataset, use seed `42`.\n",
    "* Split your data in train/val/test sets, with 60%/20%/20% distribution.\n",
    "* Make sure that the target value ('median_house_value') is not in your dataframe.\n",
    "* Apply the log transformation to the median_house_value variable using the `np.log1p()` function."
   ]
  },
  {
   "cell_type": "code",
   "execution_count": 76,
   "id": "2f43720e-0fb4-421c-a1db-799e9b465070",
   "metadata": {},
   "outputs": [],
   "source": [
    "n = len(df)\n",
    "idx = np.arange(n)\n",
    "np.random.seed(42)\n",
    "np.random.shuffle(idx)\n",
    "\n",
    "n_val = int(n * 0.2)\n",
    "n_test = int(n * 0.2)\n",
    "n_train = n - n_val - n_test"
   ]
  },
  {
   "cell_type": "code",
   "execution_count": 77,
   "id": "b7dc2058-5301-4d65-a24d-8a052ff9287f",
   "metadata": {},
   "outputs": [],
   "source": [
    "df_train = df.iloc[idx[:n_train]].reset_index(drop=True)\n",
    "y_train = np.log1p(df_train['median_house_value'].values)\n",
    "df_train = df_train.drop('median_house_value', axis=1)\n",
    "\n",
    "df_val = df.iloc[idx[n_train:n_train+n_val]].reset_index(drop=True)\n",
    "y_val = np.log1p(df_val['median_house_value'].values)\n",
    "df_val = df_val.drop('median_house_value', axis=1)\n",
    "\n",
    "df_test = df.iloc[idx[n_train+n_val:]].reset_index(drop=True)\n",
    "y_test = np.log1p(df_test['median_house_value'].values)\n",
    "df_test = df_test.drop('median_house_value', axis=1)"
   ]
  },
  {
   "cell_type": "code",
   "execution_count": 78,
   "id": "0c8d12f8-f4fd-4e58-a6e8-f10b0ae25e97",
   "metadata": {},
   "outputs": [
    {
     "data": {
      "text/plain": [
       "(20640, 9)"
      ]
     },
     "execution_count": 78,
     "metadata": {},
     "output_type": "execute_result"
    }
   ],
   "source": [
    "df.shape"
   ]
  },
  {
   "cell_type": "code",
   "execution_count": 79,
   "id": "6ca15800-c9c7-4833-8a22-82aaa3117779",
   "metadata": {},
   "outputs": [
    {
     "data": {
      "text/plain": [
       "((12384, 8), (4128, 8), (4128, 8))"
      ]
     },
     "execution_count": 79,
     "metadata": {},
     "output_type": "execute_result"
    }
   ],
   "source": [
    "df_train.shape, df_val.shape, df_test.shape"
   ]
  },
  {
   "cell_type": "code",
   "execution_count": 80,
   "id": "c4ea1b1a-3cdf-4b7f-85f6-d79a9310ca2f",
   "metadata": {},
   "outputs": [
    {
     "data": {
      "text/plain": [
       "((12384,), (4128,), (4128,))"
      ]
     },
     "execution_count": 80,
     "metadata": {},
     "output_type": "execute_result"
    }
   ],
   "source": [
    "y_train.shape, y_val.shape, y_test.shape"
   ]
  },
  {
   "cell_type": "code",
   "execution_count": null,
   "id": "8c0a9575-88e0-42db-bbfb-c55132d104ff",
   "metadata": {},
   "outputs": [],
   "source": []
  },
  {
   "cell_type": "markdown",
   "id": "e65b041a-24d4-4d28-ad14-3ab2115a5a81",
   "metadata": {},
   "source": [
    "### Question 3\n",
    "\n",
    "* We need to deal with missing values for the column from Q1.\n",
    "* We have two options: fill it with 0 or with the mean of this variable.\n",
    "* Try both options. For each, train a linear regression model without regularization using the code from the lessons.\n",
    "* For computing the mean, use the training only!\n",
    "* Use the validation dataset to evaluate the models and compare the RMSE of each option.\n",
    "* Round the RMSE scores to 2 decimal digits using `round(score, 2)`\n",
    "* Which option gives better RMSE?\n",
    "\n",
    "Options:\n",
    "- With 0\n",
    "- With mean\n",
    "- **Both are equally good**"
   ]
  },
  {
   "cell_type": "code",
   "execution_count": 81,
   "id": "cf931900-d683-47d3-89b1-d8d46de6bda2",
   "metadata": {},
   "outputs": [],
   "source": [
    "def rmse(y, y_pred):\n",
    "    se = (y - y_pred) ** 2\n",
    "    mse = se.mean()\n",
    "    return np.sqrt(mse)\n",
    "\n",
    "\n",
    "def train_linear_regression(X, y):\n",
    "    ones = np.ones(X.shape[0])\n",
    "    X = np.column_stack([ones, X])\n",
    "\n",
    "    XTX = X.T.dot(X)\n",
    "    XTX_inv = np.linalg.inv(XTX)\n",
    "    w_full = XTX_inv.dot(X.T).dot(y)\n",
    "    \n",
    "    return w_full[0], w_full[1:]"
   ]
  },
  {
   "cell_type": "code",
   "execution_count": 82,
   "id": "94dd5f6a-ba3f-4b9c-aa15-17af56c87716",
   "metadata": {},
   "outputs": [
    {
     "data": {
      "text/plain": [
       "0.33"
      ]
     },
     "execution_count": 82,
     "metadata": {},
     "output_type": "execute_result"
    }
   ],
   "source": [
    "dict_fillna = {'total_bedrooms': 0}\n",
    "X_train = df_train.fillna(dict_fillna)\n",
    "X_val = df_val.fillna(dict_fillna)\n",
    "w0, w = train_linear_regression(X_train, y_train)\n",
    "y_pred = w0 + X_val.dot(w)\n",
    "round(rmse(y_val, y_pred), 2)"
   ]
  },
  {
   "cell_type": "code",
   "execution_count": 83,
   "id": "67a3490f-cbfd-4a33-af53-a9933ade27c1",
   "metadata": {},
   "outputs": [
    {
     "data": {
      "text/plain": [
       "0.33"
      ]
     },
     "execution_count": 83,
     "metadata": {},
     "output_type": "execute_result"
    }
   ],
   "source": [
    "dict_fillna = {'total_bedrooms': df_train['total_bedrooms'].median()}\n",
    "X_train = df_train.fillna(dict_fillna)\n",
    "X_val = df_val.fillna(dict_fillna)\n",
    "w0, w = train_linear_regression(X_train, y_train)\n",
    "y_pred = w0 + X_val.dot(w)\n",
    "round(rmse(y_val, y_pred), 2)"
   ]
  },
  {
   "cell_type": "markdown",
   "id": "dd2e6ac2-5215-4864-8536-7c844b0bfd15",
   "metadata": {},
   "source": [
    "### Question 4\n",
    "\n",
    "* Now let's train a regularized linear regression.\n",
    "* For this question, fill the NAs with 0. \n",
    "* Try different values of `r` from this list: `[0, 0.000001, 0.0001, 0.001, 0.01, 0.1, 1, 5, 10]`.\n",
    "* Use RMSE to evaluate the model on the validation dataset.\n",
    "* Round the RMSE scores to 2 decimal digits.\n",
    "* Which `r` gives the best RMSE?\n",
    "\n",
    "If there are multiple options, select the smallest `r`.\n",
    "\n",
    "Options:\n",
    "- **0**\n",
    "- 0.000001\n",
    "- 0.001\n",
    "- 0.0001"
   ]
  },
  {
   "cell_type": "code",
   "execution_count": 84,
   "id": "91bb95b7-f3a2-4c54-a1b3-c53cfda9f363",
   "metadata": {},
   "outputs": [],
   "source": [
    "def train_linear_regression_reg(X, y, r=0.001):\n",
    "    ones = np.ones(X.shape[0])\n",
    "    X = np.column_stack([ones, X])\n",
    "\n",
    "    XTX = X.T.dot(X)\n",
    "    XTX = XTX + r * np.eye(XTX.shape[0])\n",
    "\n",
    "    XTX_inv = np.linalg.inv(XTX)\n",
    "    w_full = XTX_inv.dot(X.T).dot(y)\n",
    "    \n",
    "    return w_full[0], w_full[1:]"
   ]
  },
  {
   "cell_type": "code",
   "execution_count": 85,
   "id": "715a6a3c-d19a-4a41-956c-568e955bbe92",
   "metadata": {},
   "outputs": [
    {
     "name": "stdout",
     "output_type": "stream",
     "text": [
      "0 0.33\n",
      "1e-06 0.33\n",
      "0.0001 0.33\n",
      "0.001 0.33\n",
      "0.01 0.33\n",
      "0.1 0.33\n",
      "1 0.33\n",
      "5 0.34\n",
      "10 0.34\n"
     ]
    }
   ],
   "source": [
    "dict_fillna = {'total_bedrooms': 0}\n",
    "X_train = df_train.fillna(dict_fillna)\n",
    "X_val = df_val.fillna(dict_fillna)\n",
    "\n",
    "for r in [0, 0.000001, 0.0001, 0.001, 0.01, 0.1, 1, 5, 10]:\n",
    "    w0, w = train_linear_regression_reg(X_train, y_train, r)\n",
    "    y_pred = w0 + X_val.dot(w)\n",
    "    print(r, round(rmse(y_val, y_pred), 2))"
   ]
  },
  {
   "cell_type": "markdown",
   "id": "3872da05-8ff6-4efa-a6db-47fb7f3d1bf4",
   "metadata": {},
   "source": [
    "### Question 5 \n",
    "\n",
    "* We used seed 42 for splitting the data. Let's find out how selecting the seed influences our score.\n",
    "* Try different seed values: `[0, 1, 2, 3, 4, 5, 6, 7, 8, 9]`.\n",
    "* For each seed, do the train/validation/test split with 60%/20%/20% distribution.\n",
    "* Fill the missing values with 0 and train a model without regularization.\n",
    "* For each seed, evaluate the model on the validation dataset and collect the RMSE scores. \n",
    "* What's the standard deviation of all the scores? To compute the standard deviation, use `np.std`.\n",
    "* Round the result to 3 decimal digits (`round(std, 3)`)\n",
    "\n",
    "> Note: Standard deviation shows how different the values are.\n",
    "> If it's low, then all values are approximately the same.\n",
    "> If it's high, the values are different. \n",
    "> If standard deviation of scores is low, then our model is *stable*.\n",
    "\n",
    "Options:\n",
    "- 0.16\n",
    "- 0.00005\n",
    "- **0.005**\n",
    "- 0.15555"
   ]
  },
  {
   "cell_type": "code",
   "execution_count": 104,
   "id": "c55b3b2d-2b84-42e9-928c-0ca2f7c6a7cd",
   "metadata": {},
   "outputs": [
    {
     "data": {
      "text/plain": [
       "0.005"
      ]
     },
     "execution_count": 104,
     "metadata": {},
     "output_type": "execute_result"
    }
   ],
   "source": [
    "n = len(df)\n",
    "\n",
    "list_scores = []\n",
    "for seed in [0, 1, 2, 3, 4, 5, 6, 7, 8, 9]:\n",
    "\n",
    "    idx = np.arange(n)\n",
    "    np.random.seed(seed)\n",
    "    np.random.shuffle(idx)\n",
    "\n",
    "    n_val = int(n * 0.2)\n",
    "    n_test = int(n * 0.2)\n",
    "    n_train = n - n_val - n_test\n",
    "\n",
    "    \n",
    "    df_train = df.iloc[idx[:n_train]].reset_index(drop=True)\n",
    "    y_train = np.log1p(df_train['median_house_value'].values)\n",
    "    df_train = df_train.drop('median_house_value', axis=1)\n",
    "\n",
    "    df_val = df.iloc[idx[n_train:n_train+n_val]].reset_index(drop=True)\n",
    "    y_val = np.log1p(df_val['median_house_value'].values)\n",
    "    df_val = df_val.drop('median_house_value', axis=1)\n",
    "\n",
    "    df_test = df.iloc[idx[n_train+n_val:]].reset_index(drop=True)\n",
    "    y_test = np.log1p(df_test['median_house_value'].values)\n",
    "    df_test = df_test.drop('median_house_value', axis=1)\n",
    "\n",
    "    dict_fillna = {'total_bedrooms': 0}\n",
    "    X_train = df_train.fillna(dict_fillna)\n",
    "    X_val = df_val.fillna(dict_fillna)\n",
    "    w0, w = train_linear_regression(X_train, y_train)\n",
    "    y_pred = w0 + X_val.dot(w)\n",
    "    list_scores.append(round(rmse(y_val, y_pred), 2))\n",
    "    \n",
    "round(np.std(list_scores), 3)"
   ]
  },
  {
   "cell_type": "code",
   "execution_count": 96,
   "id": "93e80345-4263-40b5-bbce-ea75c10a40ed",
   "metadata": {},
   "outputs": [
    {
     "data": {
      "text/plain": [
       "0.00417077194661108"
      ]
     },
     "execution_count": 96,
     "metadata": {},
     "output_type": "execute_result"
    }
   ],
   "source": [
    "np.std(list_scores)"
   ]
  },
  {
   "cell_type": "markdown",
   "id": "7944f4af-3a3c-4917-8c38-cdbc05b7633d",
   "metadata": {},
   "source": [
    "### Question 6\n",
    "\n",
    "* Split the dataset like previously, use seed 9.\n",
    "* Combine train and validation datasets.\n",
    "* Fill the missing values with 0 and train a model with `r=0.001`. \n",
    "* What's the RMSE on the test dataset?\n",
    "\n",
    "Options:\n",
    "- **0.35**\n",
    "- 0.135\n",
    "- 0.450\n",
    "- 0.245"
   ]
  },
  {
   "cell_type": "code",
   "execution_count": 103,
   "id": "18d3cb81-4082-4471-82f7-be432ef245c4",
   "metadata": {},
   "outputs": [
    {
     "data": {
      "text/plain": [
       "0.35"
      ]
     },
     "execution_count": 103,
     "metadata": {},
     "output_type": "execute_result"
    }
   ],
   "source": [
    "seed = 9\n",
    "\n",
    "idx = np.arange(n)\n",
    "np.random.seed(seed)\n",
    "np.random.shuffle(idx)\n",
    "\n",
    "n_val = int(n * 0.2)\n",
    "n_test = int(n * 0.2)\n",
    "n_train = n - n_val - n_test\n",
    "\n",
    "\n",
    "df_train = df.iloc[idx[:n_train+n_val]].reset_index(drop=True)\n",
    "y_train = np.log1p(df_train['median_house_value'].values)\n",
    "df_train = df_train.drop('median_house_value', axis=1)\n",
    "\n",
    "df_test = df.iloc[idx[n_train+n_val:]].reset_index(drop=True)\n",
    "y_test = np.log1p(df_test['median_house_value'].values)\n",
    "df_test = df_test.drop('median_house_value', axis=1)\n",
    "\n",
    "dict_fillna = {'total_bedrooms': 0}\n",
    "X_train = df_train.fillna(dict_fillna)\n",
    "X_test = df_test.fillna(dict_fillna)\n",
    "w0, w = train_linear_regression_reg(X_train, y_train, r=0.001)\n",
    "y_pred = w0 + X_test.dot(w)\n",
    "\n",
    "round(rmse(y_test, y_pred), 2)"
   ]
  },
  {
   "cell_type": "code",
   "execution_count": null,
   "id": "cc51a023-2358-4d29-86ba-2ad566099e83",
   "metadata": {},
   "outputs": [],
   "source": []
  },
  {
   "cell_type": "markdown",
   "id": "f5bc7838-cce8-4072-b3bb-272d1b2b3e80",
   "metadata": {},
   "source": [
    "## Submit the results\n",
    "- Submit your results here: https://forms.gle/WCVb4KMNsgbkuJtr6\n",
    "- If your answer doesn't match options exactly, select the closest one.\n",
    "- You can submit your solution multiple times. In this case, only the last submission will be used\n",
    "\n",
    "## Deadline\n",
    "\n",
    "The deadline for submitting is, 19 September 2022, 23:00 CET. After that, the form will be closed.\n"
   ]
  },
  {
   "cell_type": "code",
   "execution_count": null,
   "id": "3c721e88-1c68-4357-b726-f2406b622175",
   "metadata": {},
   "outputs": [],
   "source": []
  }
 ],
 "metadata": {
  "kernelspec": {
   "display_name": "ml-zoomcamp",
   "language": "python",
   "name": "ml-zoomcamp"
  },
  "language_info": {
   "codemirror_mode": {
    "name": "ipython",
    "version": 3
   },
   "file_extension": ".py",
   "mimetype": "text/x-python",
   "name": "python",
   "nbconvert_exporter": "python",
   "pygments_lexer": "ipython3",
   "version": "3.9.13"
  }
 },
 "nbformat": 4,
 "nbformat_minor": 5
}
